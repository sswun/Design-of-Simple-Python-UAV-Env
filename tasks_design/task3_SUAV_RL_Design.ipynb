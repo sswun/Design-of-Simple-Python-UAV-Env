{
 "cells": [
  {
   "cell_type": "markdown",
   "metadata": {},
   "source": [
    "# 基于深度强化学习的单智能体决策过程方法研究————任务二：强化学习过程20240122"
   ]
  },
  {
   "cell_type": "markdown",
   "metadata": {},
   "source": [
    "我们将模仿文章：A UAV Path Planning Method in Three-Dimensional Urban Airspace based on Safe Reinforcement Learning，进行相关设计\n",
    "\n",
    "引用：\n",
    "\n",
    "Li Y, Zhang X, Zhu Y, Gao Z. A UAV Path Planning Method in Three-Dimensional Urban Airspace based on Safe Reinforcement Learning. 2023 IEEE/AIAA 42nd Digital Avionics Systems Conference (DASC), Digital Avionics Systems Conference (DASC), 2023 IEEE/AIAA 42nd. October 2023:1-7. doi:10.1109/DASC58513.2023.10311219\n",
    "\n",
    "网址：\n",
    "\n",
    "https://ieeexplore.ieee.org/document/10311219"
   ]
  },
  {
   "cell_type": "code",
   "execution_count": null,
   "metadata": {},
   "outputs": [],
   "source": []
  }
 ],
 "metadata": {
  "language_info": {
   "name": "python"
  }
 },
 "nbformat": 4,
 "nbformat_minor": 2
}
